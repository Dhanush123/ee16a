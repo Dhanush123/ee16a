{
 "metadata": {
  "anaconda-cloud": {},
  "kernelspec": {
   "display_name": "Python 3",
   "language": "python",
   "name": "python3"
  },
  "language_info": {
   "codemirror_mode": {
    "name": "ipython",
    "version": 3
   },
   "file_extension": ".py",
   "mimetype": "text/x-python",
   "name": "python",
   "nbconvert_exporter": "python",
   "pygments_lexer": "ipython3",
   "version": "3.6.1"
  },
  "name": "",
  "signature": "sha256:37f2bf03331a1d8233cbe4f1b3c4a02883b90d9c34b3be49fbbbe651cd423438"
 },
 "nbformat": 3,
 "nbformat_minor": 0,
 "worksheets": [
  {
   "cells": [
    {
     "cell_type": "heading",
     "level": 1,
     "metadata": {},
     "source": [
      "EE16A Homework 12"
     ]
    },
    {
     "cell_type": "heading",
     "level": 2,
     "metadata": {
      "collapsed": true
     },
     "source": [
      "Question 1: Labeling Patients Using Gene Expression Data"
     ]
    },
    {
     "cell_type": "code",
     "collapsed": true,
     "input": [
      "%pylab inline\n",
      "import numpy as np\n",
      "import matplotlib.pyplot as plt\n",
      "import scipy.io\n",
      "import sys"
     ],
     "language": "python",
     "metadata": {},
     "outputs": [
      {
       "output_type": "stream",
       "stream": "stdout",
       "text": [
        "Populating the interactive namespace from numpy and matplotlib\n"
       ]
      }
     ],
     "prompt_number": 1
    },
    {
     "cell_type": "heading",
     "level": 3,
     "metadata": {},
     "source": [
      "Part (b)"
     ]
    },
    {
     "cell_type": "code",
     "collapsed": true,
     "input": [
      "A = np.load('gene_data_train.npy')\n",
      "b = np.load('diabetes_train.npy')\n",
      "\n",
      "x_pb = numpy.linalg.lstsq(A,b)\n",
      "print(x_pb)"
     ],
     "language": "python",
     "metadata": {},
     "outputs": [
      {
       "output_type": "stream",
       "stream": "stdout",
       "text": [
        "(array([[-0.15646169],\n",
        "       [ 0.09239418],\n",
        "       [ 0.48053974],\n",
        "       [-0.5847018 ],\n",
        "       [-0.35350734]]), array([ 0.63021776]), 5, array([ 55.54141902,   5.44019995,   3.94168171,   2.38586289,   1.90939811]))\n"
       ]
      }
     ],
     "prompt_number": 2
    },
    {
     "cell_type": "heading",
     "level": 3,
     "metadata": {},
     "source": [
      "Part (c)"
     ]
    },
    {
     "cell_type": "code",
     "collapsed": true,
     "input": [
      "A_test = np.load('gene_data_test.npy')\n",
      "b_test = np.load('diabetes_test.npy')\n",
      "\n",
      "# print([np.sign(val) for val in x])\n",
      "x_pc = numpy.linalg.lstsq(A_test, b_test)\n",
      "print(x_pc)\n",
      "bin_vec = [np.sign(sum(val)) for val in x_pc]\n",
      "print(\"The respective signs are:\",bin_vec) #vector to find\n",
      "for i in range(0,len(bin_vec)):\n",
      "    d = \"does\" if bin_vec[i] > 0 else \"does not\"\n",
      "    print(\"for mouse\",i,\"with sign\",bin_vec[i],\"it\",d,\"have diabetes\")"
     ],
     "language": "python",
     "metadata": {},
     "outputs": [
      {
       "output_type": "stream",
       "stream": "stdout",
       "text": [
        "(array([[-0.1782282 ],\n",
        "       [ 0.09755956],\n",
        "       [ 0.07605277],\n",
        "       [ 0.07605277],\n",
        "       [ 0.37602656]]), array([], dtype=float64), 4, array([ 36.08773042,  10.61226771,   2.80127911,   1.81061384]))\n",
        "('The respective signs are:', [1.0, 0.0, 1, 1.0])\n",
        "('for mouse', 0, 'with sign', 1.0, 'it', 'does', 'have diabetes')\n",
        "('for mouse', 1, 'with sign', 0.0, 'it', 'does not', 'have diabetes')\n",
        "('for mouse', 2, 'with sign', 1, 'it', 'does', 'have diabetes')\n",
        "('for mouse', 3, 'with sign', 1.0, 'it', 'does', 'have diabetes')\n"
       ]
      }
     ],
     "prompt_number": 3
    },
    {
     "cell_type": "heading",
     "level": 2,
     "metadata": {},
     "source": [
      "Question 2: The Framingham Risk Score"
     ]
    },
    {
     "cell_type": "code",
     "collapsed": true,
     "input": [
      "%pylab inline\n",
      "import numpy as np\n",
      "import matplotlib.pyplot as plt"
     ],
     "language": "python",
     "metadata": {},
     "outputs": [
      {
       "output_type": "stream",
       "stream": "stdout",
       "text": [
        "Populating the interactive namespace from numpy and matplotlib\n"
       ]
      }
     ],
     "prompt_number": 4
    },
    {
     "cell_type": "heading",
     "level": 3,
     "metadata": {},
     "source": [
      "Part (a)"
     ]
    },
    {
     "cell_type": "heading",
     "level": 3,
     "metadata": {},
     "source": [
      "Part (b)"
     ]
    },
    {
     "cell_type": "code",
     "collapsed": true,
     "input": [
      "# Importing medical data\n",
      "import scipy.io\n",
      "\n",
      "# LOADS IN THE MEDICAL DATA IN THE FORM OF A PYTHON DICTIONARY.\n",
      "# Data credit: CDC (https://www.cdc.gov/nchs/nhanes/index.htm)\n",
      "data = scipy.io.loadmat('CVDdata.mat')\n",
      "\n",
      "#UNPACKING DATA INTO COLUMN VECTORS\n",
      "AGE = data['AGE']\n",
      "TC = data['TC']\n",
      "HDL = data['HDL']\n",
      "SBP = data['SBP']\n",
      "DIA = data['DIABETIC']\n",
      "SMK = data['SMOKER']\n",
      "p = data['pNoisy']\n",
      "\n",
      "# Write expressions for b, A1, A2, A3, A4, A5, A6\n",
      "# It will help to use the identity log_n(z) = log(z)/log(n)\n",
      "vfunc = np.vectorize(lambda x: np.power(np.e,x))\n",
      "b = p\n",
      "\n",
      "A1 = vfunc(AGE)\n",
      "A2 = vfunc(TC)\n",
      "A3 = vfunc(HDL)\n",
      "A4 = vfunc(SBP)\n",
      "A5 = DIA\n",
      "A6 = SMK"
     ],
     "language": "python",
     "metadata": {},
     "outputs": [],
     "prompt_number": 5
    },
    {
     "cell_type": "code",
     "collapsed": true,
     "input": [
      "# Write expressions for b and A\n",
      "# The function np.hstack will be helpful for constructing A\n",
      "b = p\n",
      "A = np.hstack([A1,A2,A3,A4,A5,A6])"
     ],
     "language": "python",
     "metadata": {},
     "outputs": [],
     "prompt_number": 6
    },
    {
     "cell_type": "heading",
     "level": 3,
     "metadata": {},
     "source": [
      "Part (c)"
     ]
    },
    {
     "cell_type": "code",
     "collapsed": true,
     "input": [
      "# Write an expression for xhat\n",
      "\n",
      "xhat = np.linalg.lstsq(A, b)[0]\n",
      "\n",
      "print(\"The estimated values for x are xhat = \" + str(xhat.T))"
     ],
     "language": "python",
     "metadata": {},
     "outputs": [
      {
       "output_type": "stream",
       "stream": "stdout",
       "text": [
        "The estimated values for x are xhat = [[  3.40486261e-262   2.27674936e-145   5.40082456e-247   0.00000000e+000\n",
        "   -1.16657952e-302   1.48438732e-289]]\n"
       ]
      }
     ],
     "prompt_number": 7
    },
    {
     "cell_type": "heading",
     "level": 3,
     "metadata": {},
     "source": [
      "Part (d)"
     ]
    },
    {
     "cell_type": "code",
     "collapsed": true,
     "input": [
      "# the model estimate bhat, and the squared error e2\n",
      "bhat = np.matmul(A ,xhat)\n",
      "e2 = np.power(np.linalg.norm(bhat-b),2)\n",
      "\n",
      "print(\"The model's prediction of b is \" + str(bhat))\n",
      "print(\"The sum of squared errors is \" + str(e2))"
     ],
     "language": "python",
     "metadata": {},
     "outputs": [
      {
       "output_type": "stream",
       "stream": "stdout",
       "text": [
        "The model's prediction of b is [[  2.08347447e-72]\n",
        " [  3.09215028e-70]\n",
        " [  7.09272225e-43]\n",
        " [  9.70667035e-87]\n",
        " [  2.06035422e-29]\n",
        " [  6.63710206e-56]\n",
        " [  1.64517312e-58]\n",
        " [  2.50559533e-66]\n",
        " [  1.40383406e-74]\n",
        " [  6.14182938e-26]\n",
        " [  1.73246886e-78]\n",
        " [  8.40533593e-70]\n",
        " [  9.59895574e-44]\n",
        " [  1.75811007e-45]\n",
        " [  1.64517312e-58]\n",
        " [  6.21074987e-69]\n",
        " [  3.13791531e-37]\n",
        " [  3.81601661e-74]\n",
        " [  3.09215028e-70]\n",
        " [  2.60926670e-43]\n",
        " [  3.09215028e-70]\n",
        " [  2.57121176e-76]\n",
        " [  1.08022016e-50]\n",
        " [  1.80415139e-55]\n",
        " [  2.13803642e-82]\n",
        " [  3.09215028e-70]\n",
        " [  3.62373494e-54]\n",
        " [  2.81967608e-73]\n",
        " [  2.08347447e-72]\n",
        " [  1.89988280e-75]\n",
        " [  2.86140838e-40]\n",
        " [  1.44059761e-84]\n",
        " [  4.07797645e-61]\n",
        " [  3.57088446e-87]\n",
        " [  6.63710206e-56]\n",
        " [  6.98927822e-76]\n",
        " [  2.67759808e-53]\n",
        " [  4.47204419e-58]\n",
        " [  1.01082930e-63]\n",
        " [  5.74729236e-39]\n",
        " [  3.30441854e-57]\n",
        " [  3.22009092e-47]\n",
        " [  1.38825575e-31]\n",
        " [  4.18477034e-71]\n",
        " [  2.08347447e-72]\n",
        " [  2.93634284e-50]\n",
        " [  1.85139844e-65]\n",
        " [  3.09215028e-70]\n",
        " [  1.75811007e-45]\n",
        " [  1.68825685e-68]\n",
        " [  3.39095453e-67]\n",
        " [  4.18477034e-71]\n",
        " [  1.97849224e-52]\n",
        " [  3.53125847e-44]\n",
        " [  2.03030492e-62]\n",
        " [  3.30441854e-57]\n",
        " [  3.58352247e-11]\n",
        " [  9.70667035e-87]\n",
        " [  1.62117904e-91]\n",
        " [  2.93634284e-50]\n",
        " [  3.53125847e-44]\n",
        " [  1.57980711e-81]\n",
        " [  9.85033284e-54]\n",
        " [  2.28480719e-69]\n",
        " [  7.46907440e-63]\n",
        " [  6.54030304e-89]\n",
        " [  1.20213786e-14]\n",
        " [  1.44059761e-84]\n",
        " [  4.58915792e-68]\n",
        " [  3.17312740e-80]\n",
        " [  8.75311463e-47]\n",
        " [  6.63710206e-56]\n",
        " [  3.49207221e-01]\n",
        " [  6.37339676e-79]\n",
        " [  3.39095453e-67]\n",
        " [  2.60926670e-43]\n",
        " [  5.51894097e-62]\n",
        " [  8.62545455e-80]\n",
        " [  7.46907440e-63]\n",
        " [  2.78838622e-30]\n",
        " [  2.37934324e-46]\n",
        " [  1.24746246e-67]\n",
        " [  4.77903866e-45]\n",
        " [  2.22649970e-59]\n",
        " [  3.77367039e-31]\n",
        " [  3.25622514e-90]\n",
        " [  2.67759808e-53]\n",
        " [  1.75811007e-45]\n",
        " [  1.95653697e-09]\n",
        " [  2.16968019e-49]\n",
        " [  2.16968019e-49]]\n",
        "The sum of squared errors is 1.51370292177\n"
       ]
      }
     ],
     "prompt_number": 20
    },
    {
     "cell_type": "heading",
     "level": 3,
     "metadata": {},
     "source": [
      "Part (e)"
     ]
    },
    {
     "cell_type": "code",
     "collapsed": true,
     "input": [
      "# Linear plots, pick an index below (0,1,2,etc). This code will plot b and bhat vs Ai\n",
      "i = 2\n",
      "plt.plot(A[:,i],b,'ob')\n",
      "plt.plot(A[:,i],bhat,'or')"
     ],
     "language": "python",
     "metadata": {},
     "outputs": [
      {
       "metadata": {},
       "output_type": "pyout",
       "prompt_number": 22,
       "text": [
        "[<matplotlib.lines.Line2D at 0x7f9fc17c2290>]"
       ]
      },
      {
       "metadata": {},
       "output_type": "display_data",
       "png": "[encoded data removed]",
       "text": [
        "<matplotlib.figure.Figure at 0x7f9fc17c2710>"
       ]
      }
     ],
     "prompt_number": 22
    },
    {
     "cell_type": "heading",
     "level": 3,
     "metadata": {},
     "source": [
      "Part (f)"
     ]
    },
    {
     "cell_type": "code",
     "collapsed": true,
     "input": [
      "# Here are the values for the test plot\n",
      "age_test = 40\n",
      "tc_test_vector = np.linspace(100,350,(350-100+1))\n",
      "hdl_test = 25\n",
      "sbp_test = 220\n",
      "dia_test = 1\n",
      "smk_test = 1\n",
      "\n",
      "A2_test = np.zeros(tc_test_vector.size)\n",
      "b_test = np.zeros(tc_test_vector.size)\n",
      "\n",
      "for ind in range(tc_test_vector.size):\n",
      "    tc_test = tc_test_vector[ind];\n",
      "    # Use the values for age_test, tc_test, hdl_test, sbp_test, dia_test\n",
      "    # and smk_test to calculate the next value for b_test (y axis value)\n",
      "    # and A2_test (x_axis value)\n",
      "    lst = [vfunc(age_test),vfunc(tc_test_vector[ind]),vfunc(hdl_test),vfunc(sbp_test),dia_test,smk_test]\n",
      "    b_test[ind] = np.matmul(lst ,xhat)\n",
      "    A2_test[ind] = np.power(np.linalg.norm(b_test[ind]-b),2)\n",
      "    \n",
      "#Answer: plot is logarithmic, not linear\n",
      "\n",
      "plt.plot(A2_test,b_test,'-b')"
     ],
     "language": "python",
     "metadata": {},
     "outputs": [
      {
       "metadata": {},
       "output_type": "pyout",
       "prompt_number": 44,
       "text": [
        "[<matplotlib.lines.Line2D at 0x7f9fc179e0d0>]"
       ]
      },
      {
       "metadata": {},
       "output_type": "display_data",
       "png": "[encoded data removed]",
       "text": [
        "<matplotlib.figure.Figure at 0x7f9fc1357510>"
       ]
      }
     ],
     "prompt_number": 44
    },
    {
     "cell_type": "heading",
     "level": 3,
     "metadata": {},
     "source": [
      "Part (g)"
     ]
    },
    {
     "cell_type": "code",
     "collapsed": true,
     "input": [
      "# Perturb xhat from the solution above, store into x_perturbed and replot.\n",
      "\n",
      "# Use the following example expression with different pertrubations.\n",
      "x_perturbed = xhat+np.matrix([.4, 0.2, 0.2, -0.3, 0.1, 0.32]).T\n",
      "\n",
      "# What are the new estimated b values in terms of x_perturbed?\n",
      "b_perturbed = np.matmul(A, x_perturbed)\n",
      "\n",
      "# Plot again\n",
      "plt.plot(A[:,i],b,'ob')\n",
      "plt.plot(A[:,i],b_perturbed,'or')\n",
      "\n",
      "# What is the new sum of squared errors (after perturbing)?\n",
      "e2_perturbed = np.power(np.linalg.norm(b_perturbed-b),2)\n",
      "\n",
      "print(\"The sum of squared errors after perturbing is \" + str(e2_perturbed))\n",
      "\n",
      "#Answer: fit gets better, squared error is decreasing"
     ],
     "language": "python",
     "metadata": {},
     "outputs": [
      {
       "output_type": "stream",
       "stream": "stdout",
       "text": [
        "The sum of squared errors after perturbing is 1.90555286896e+288\n"
       ]
      },
      {
       "metadata": {},
       "output_type": "display_data",
       "png": "[encoded data removed]",
       "text": [
        "<matplotlib.figure.Figure at 0x7f9fc1131110>"
       ]
      }
     ],
     "prompt_number": 51
    },
    {
     "cell_type": "heading",
     "level": 3,
     "metadata": {},
     "source": [
      "PRACTICE: Part (h)"
     ]
    },
    {
     "cell_type": "code",
     "collapsed": true,
     "input": [
      "# Nonlinear plots, pick an index below (0,1,2,etc). This code will plot b and bhat vs Ai\n",
      "i = 3\n",
      "\n",
      "# Write an expression for estimated p values here\n",
      "p_estimated = \n",
      "\n",
      "plt.plot(np.exp(A[:,i]),p,'ob')\n",
      "plt.plot(np.exp(A[:,i]),p_estimated,'or')"
     ],
     "language": "python",
     "metadata": {},
     "outputs": []
    },
    {
     "cell_type": "heading",
     "level": 3,
     "metadata": {},
     "source": [
      "PRACTICE: Part (i)"
     ]
    },
    {
     "cell_type": "code",
     "collapsed": true,
     "input": [
      "# transform b_test into p_test\n",
      "p_test =\n",
      "\n",
      "plt.plot(tc_test_vector,p_test,'-b')"
     ],
     "language": "python",
     "metadata": {},
     "outputs": []
    }
   ],
   "metadata": {}
  }
 ]
}