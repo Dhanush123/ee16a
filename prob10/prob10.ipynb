{
 "metadata": {
  "anaconda-cloud": {},
  "kernelspec": {
   "display_name": "Python 3",
   "language": "python",
   "name": "python3"
  },
  "language_info": {
   "codemirror_mode": {
    "name": "ipython",
    "version": 3
   },
   "file_extension": ".py",
   "mimetype": "text/x-python",
   "name": "python",
   "nbconvert_exporter": "python",
   "pygments_lexer": "ipython3",
   "version": "3.6.1"
  },
  "name": "",
  "signature": "sha256:6a7c1847fedb3b0be094a111d9165a786c6fecda1e18b91d4ebb8a21bb779051"
 },
 "nbformat": 3,
 "nbformat_minor": 0,
 "worksheets": [
  {
   "cells": [
    {
     "cell_type": "heading",
     "level": 1,
     "metadata": {},
     "source": [
      "EE16A Homework 10"
     ]
    },
    {
     "cell_type": "markdown",
     "metadata": {},
     "source": [
      "## Question 3: Audio File Matching\n",
      "\n",
      "This notebook continues the audio file matching problem. Be sure to have `song.wav` and `clip.wav` in the same directory as the notebook.\n",
      "\n",
      "In this notebook, we will look at the problem of searching for a small audio clip inside a song.\n",
      "\n",
      "The song \"Mandelbrot Set\" by Jonathan Coulton is licensed under <a href=\"http://creativecommons.org/licenses/by-nc/3.0/\">CC BY-NC 3.0</a>.\n",
      "\n",
      "If you have trouble playing the audio file in IPython, try opening it in a different browser. There were problems with Safari, but Chrome works fine."
     ]
    },
    {
     "cell_type": "code",
     "collapsed": true,
     "input": [
      "import numpy as np\n",
      "import wave\n",
      "import matplotlib.pyplot as plt\n",
      "import scipy.io.wavfile\n",
      "import operator\n",
      "from IPython.display import Audio\n",
      "%matplotlib inline\n",
      "\n",
      "given_file = 'song.wav'\n",
      "target_file = 'clip.wav'\n",
      "rate_given,  given_signal  = scipy.io.wavfile.read(given_file)\n",
      "rate_target, target_signal = scipy.io.wavfile.read(target_file)\n",
      "given_signal  = given_signal[:2000000].astype(float)\n",
      "target_signal = target_signal.astype(float)\n",
      "def play_clip(start, end, signal=given_signal):\n",
      "    scipy.io.wavfile.write('temp.wav', rate_given, signal[start:end].astype(np.int16))\n",
      "    return Audio(url='temp.wav', autoplay=True)\n",
      "\n",
      "def run_comparison(target_signal, given_signal, idxs=None):\n",
      "    # Run everything if not called with idxs set to something\n",
      "    if idxs is None:\n",
      "        idxs = [i for i in range(len(given_signal)-len(target_signal))]\n",
      "    return idxs, [vector_compare(target_signal, given_signal[i:i+len(target_signal)])\n",
      "                for i in idxs]\n",
      "\n",
      "play_clip(0, len(given_signal))\n",
      "\n",
      "# scipy.io.wavfile.write(target_file, rate_given, (-0.125*given_signal[1380000:1380000+70000]).astype(np.int16))"
     ],
     "language": "python",
     "metadata": {},
     "outputs": [
      {
       "html": [
        "\n",
        "                <audio controls=\"controls\" autoplay=\"autoplay\">\n",
        "                    <source src=\"temp.wav\" type=\"audio/x-wav\" />\n",
        "                    Your browser does not support the audio element.\n",
        "                </audio>\n",
        "              "
       ],
       "metadata": {},
       "output_type": "pyout",
       "prompt_number": 13,
       "text": [
        "<IPython.lib.display.Audio at 0x7f0b59cadcd0>"
       ]
      }
     ],
     "prompt_number": 13
    },
    {
     "cell_type": "markdown",
     "metadata": {},
     "source": [
      "We will load the song onto the variable `given_signal` and load the short clip onto the variable `target_signal`. Your job is to finish the code that will identify the short clip's location in the song. The clip we are trying to find will play after executing the following block."
     ]
    },
    {
     "cell_type": "code",
     "collapsed": true,
     "input": [
      "Audio(url=target_file, autoplay=True)"
     ],
     "language": "python",
     "metadata": {},
     "outputs": [
      {
       "html": [
        "\n",
        "                <audio controls=\"controls\" autoplay=\"autoplay\">\n",
        "                    <source src=\"clip.wav\" type=\"audio/x-wav\" />\n",
        "                    Your browser does not support the audio element.\n",
        "                </audio>\n",
        "              "
       ],
       "metadata": {},
       "output_type": "pyout",
       "prompt_number": 14,
       "text": [
        "<IPython.lib.display.Audio at 0x7f0b5cd47650>"
       ]
      }
     ],
     "prompt_number": 14
    },
    {
     "cell_type": "markdown",
     "metadata": {},
     "source": [
      "Your task is to define the function `vector_compare` and run the following code. Because the song has a lot of data, you should use the provided examples from the previous parts of the problem before running the later code. Do your results here make sense given your answers to previous parts of the problem?"
     ]
    },
    {
     "cell_type": "heading",
     "level": 3,
     "metadata": {},
     "source": [
      "Part (a)"
     ]
    },
    {
     "cell_type": "code",
     "collapsed": true,
     "input": [
      "def vector_compare(desired_vec, test_vec):\n",
      "    \"\"\"This function compares two vectors, returning a number.\n",
      "    The test vector with the highest return value is regarded as being closest to the desired vector.\"\"\"\n",
      "    # Hint: Use transpose for the first argument of np.dot\n",
      "    return np.dot(np.transpose(desired_vec), test_vec)\n",
      "\n",
      "print(vector_compare(np.array([1,1,1]), np.array([1,1,1])))\n",
      "print(vector_compare(np.array([1,1,1]), np.array([-1,-1,-1])))"
     ],
     "language": "python",
     "metadata": {},
     "outputs": [
      {
       "output_type": "stream",
       "stream": "stdout",
       "text": [
        "3\n",
        "-3\n"
       ]
      }
     ],
     "prompt_number": 18
    },
    {
     "cell_type": "heading",
     "level": 3,
     "metadata": {},
     "source": [
      "Part (c)"
     ]
    },
    {
     "cell_type": "code",
     "collapsed": true,
     "input": [
      "print(vector_compare(np.array([1,2,3]), np.array([1,2,3])))\n",
      "print(vector_compare(np.array([1,2,3]), np.array([2,3,4])))\n",
      "print(vector_compare(np.array([1,2,3]), np.array([3,4,5])))\n",
      "print(vector_compare(np.array([1,2,3]), np.array([4,5,6])))\n",
      "print(vector_compare(np.array([1,2,3]), np.array([5,6,7])))\n",
      "print(vector_compare(np.array([1,2,3]), np.array([6,7,8])))"
     ],
     "language": "python",
     "metadata": {},
     "outputs": [
      {
       "output_type": "stream",
       "stream": "stdout",
       "text": [
        "14\n",
        "20\n",
        "26\n",
        "32\n",
        "38\n",
        "44\n"
       ]
      }
     ],
     "prompt_number": 19
    },
    {
     "cell_type": "markdown",
     "metadata": {},
     "source": [
      "### Part (d)\n",
      "\n",
      "Run the following code that runs `vector_compare` on every subsequence in the song - it will probably take at least 5 minutes. How do you interpret this plot to find where the clip is in the song?"
     ]
    },
    {
     "cell_type": "code",
     "collapsed": true,
     "input": [
      "import time\n",
      "\n",
      "t0 = time.time()\n",
      "idxs, song_compare = run_comparison(target_signal, given_signal)\n",
      "t1 = time.time()\n",
      "plt.plot(idxs, song_compare)\n",
      "print (\"That took %(time).2f minutes to run\" % {'time':(t1-t0)/60.0} )"
     ],
     "language": "python",
     "metadata": {},
     "outputs": [
      {
       "output_type": "stream",
       "stream": "stdout",
       "text": [
        "That took 2.04 minutes to run\n"
       ]
      },
      {
       "metadata": {},
       "output_type": "display_data",
       "png": "[encoded data removed]",
       "text": [
        "<matplotlib.figure.Figure at 0x7f0bb0dd6c50>"
       ]
      }
     ],
     "prompt_number": 20
    },
    {
     "cell_type": "markdown",
     "metadata": {},
     "source": [
      "### Part (e)\n",
      "\n",
      "In the space below, write code that uses `song_compare` to print the index of `given_signal` where `target_signal` begins. Then, verify that your answer is correct by playing the song at that index using the `play_clip` function."
     ]
    },
    {
     "cell_type": "code",
     "collapsed": true,
     "input": [
      "idx = song_compare.index(min(song_compare))\n",
      "print(idx)"
     ],
     "language": "python",
     "metadata": {},
     "outputs": [
      {
       "output_type": "stream",
       "stream": "stdout",
       "text": [
        "1380000\n"
       ]
      }
     ],
     "prompt_number": 25
    },
    {
     "cell_type": "code",
     "collapsed": false,
     "input": [
      "play_clip(idx, idx + len(target_signal))"
     ],
     "language": "python",
     "metadata": {},
     "outputs": [
      {
       "html": [
        "\n",
        "                <audio controls=\"controls\" autoplay=\"autoplay\">\n",
        "                    <source src=\"temp.wav\" type=\"audio/x-wav\" />\n",
        "                    Your browser does not support the audio element.\n",
        "                </audio>\n",
        "              "
       ],
       "metadata": {},
       "output_type": "pyout",
       "prompt_number": 26,
       "text": [
        "<IPython.lib.display.Audio at 0x7f0b657231d0>"
       ]
      }
     ],
     "prompt_number": 26
    },
    {
     "cell_type": "code",
     "collapsed": false,
     "input": [],
     "language": "python",
     "metadata": {},
     "outputs": [],
     "prompt_number": 26
    },
    {
     "cell_type": "code",
     "collapsed": false,
     "input": [],
     "language": "python",
     "metadata": {},
     "outputs": []
    }
   ],
   "metadata": {}
  }
 ]
}